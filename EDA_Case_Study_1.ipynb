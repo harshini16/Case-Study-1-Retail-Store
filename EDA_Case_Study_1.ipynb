{
 "cells": [
  {
   "cell_type": "markdown",
   "id": "09a4f39d",
   "metadata": {},
   "source": [
    "# Case Study 1: Using Numpy, Pandas, Matplotlib\n",
    "## Sales Analysis for a Retail Store\n",
    "### Problem Statement:\n",
    "A small retail store is looking to manage and optimize their inventory. They want to identify which products are in high demand, which products are not selling. The dataset has daily sales data for each product.\n",
    "\n",
    "Dataset: Sales.csv\n",
    "\n",
    "Dataset description:\n",
    "- Order ID - Each order receives its own Order ID that will not be duplicated. \n",
    "- Product – The name of the product that has been sold.\n",
    "- Quantity Ordered – The total item quantity ordered in the initial order.\n",
    "- Price Each - The price of each product.\n",
    "- Order Date - This is the date the customer is requesting the order be shipped.\n",
    "- Purchase Address – Billing address.\n",
    "\n",
    "Approach:\n",
    "\n",
    "- Load the dataset into a Pandas DataFrame.\n",
    "- Data exploration, Data cleaning.\n",
    "- Use pandas to calculate key metrics such as\n",
    "- Total sales for each product.\n",
    "- Average sales for each product per day.\n",
    "- Use Matplotlib to create visualizations and identify \n",
    "- Highest selling products. Which products are sold the most?\n",
    "- Which city had highest number of sales?\n"
   ]
  },
  {
   "cell_type": "code",
   "execution_count": 1,
   "id": "a6bc6d3f",
   "metadata": {},
   "outputs": [],
   "source": [
    "import pandas as pd\n",
    "import numpy as np \n",
    "import matplotlib.pyplot as plt "
   ]
  },
  {
   "cell_type": "code",
   "execution_count": 2,
   "id": "22ebe44f",
   "metadata": {},
   "outputs": [
    {
     "data": {
      "text/html": [
       "<div>\n",
       "<style scoped>\n",
       "    .dataframe tbody tr th:only-of-type {\n",
       "        vertical-align: middle;\n",
       "    }\n",
       "\n",
       "    .dataframe tbody tr th {\n",
       "        vertical-align: top;\n",
       "    }\n",
       "\n",
       "    .dataframe thead th {\n",
       "        text-align: right;\n",
       "    }\n",
       "</style>\n",
       "<table border=\"1\" class=\"dataframe\">\n",
       "  <thead>\n",
       "    <tr style=\"text-align: right;\">\n",
       "      <th></th>\n",
       "      <th>Order ID</th>\n",
       "      <th>Product</th>\n",
       "      <th>Quantity Ordered</th>\n",
       "      <th>Price Each</th>\n",
       "      <th>Order Date</th>\n",
       "      <th>Purchase Address</th>\n",
       "    </tr>\n",
       "  </thead>\n",
       "  <tbody>\n",
       "    <tr>\n",
       "      <th>0</th>\n",
       "      <td>141234</td>\n",
       "      <td>iPhone</td>\n",
       "      <td>1</td>\n",
       "      <td>700</td>\n",
       "      <td>01/22/19 21:25</td>\n",
       "      <td>944 Walnut St, Boston, MA 02215</td>\n",
       "    </tr>\n",
       "    <tr>\n",
       "      <th>1</th>\n",
       "      <td>141235</td>\n",
       "      <td>Lightning Charging Cable</td>\n",
       "      <td>1</td>\n",
       "      <td>14.95</td>\n",
       "      <td>01/28/19 14:15</td>\n",
       "      <td>185 Maple St, Portland, OR 97035</td>\n",
       "    </tr>\n",
       "    <tr>\n",
       "      <th>2</th>\n",
       "      <td>141236</td>\n",
       "      <td>Wired Headphones</td>\n",
       "      <td>2</td>\n",
       "      <td>11.99</td>\n",
       "      <td>01/17/19 13:33</td>\n",
       "      <td>538 Adams St, San Francisco, CA 94016</td>\n",
       "    </tr>\n",
       "    <tr>\n",
       "      <th>3</th>\n",
       "      <td>141237</td>\n",
       "      <td>27in FHD Monitor</td>\n",
       "      <td>1</td>\n",
       "      <td>149.99</td>\n",
       "      <td>01/05/19 20:33</td>\n",
       "      <td>738 10th St, Los Angeles, CA 90001</td>\n",
       "    </tr>\n",
       "    <tr>\n",
       "      <th>4</th>\n",
       "      <td>141238</td>\n",
       "      <td>Wired Headphones</td>\n",
       "      <td>1</td>\n",
       "      <td>11.99</td>\n",
       "      <td>01/25/19 11:59</td>\n",
       "      <td>387 10th St, Austin, TX 73301</td>\n",
       "    </tr>\n",
       "  </tbody>\n",
       "</table>\n",
       "</div>"
      ],
      "text/plain": [
       "  Order ID                   Product Quantity Ordered Price Each  \\\n",
       "0   141234                    iPhone                1        700   \n",
       "1   141235  Lightning Charging Cable                1      14.95   \n",
       "2   141236          Wired Headphones                2      11.99   \n",
       "3   141237          27in FHD Monitor                1     149.99   \n",
       "4   141238          Wired Headphones                1      11.99   \n",
       "\n",
       "       Order Date                       Purchase Address  \n",
       "0  01/22/19 21:25        944 Walnut St, Boston, MA 02215  \n",
       "1  01/28/19 14:15       185 Maple St, Portland, OR 97035  \n",
       "2  01/17/19 13:33  538 Adams St, San Francisco, CA 94016  \n",
       "3  01/05/19 20:33     738 10th St, Los Angeles, CA 90001  \n",
       "4  01/25/19 11:59          387 10th St, Austin, TX 73301  "
      ]
     },
     "execution_count": 2,
     "metadata": {},
     "output_type": "execute_result"
    }
   ],
   "source": [
    "df = pd.read_csv('Sales.csv')\n",
    "df.head()"
   ]
  },
  {
   "cell_type": "code",
   "execution_count": 3,
   "id": "ec07180b",
   "metadata": {},
   "outputs": [
    {
     "name": "stdout",
     "output_type": "stream",
     "text": [
      "<class 'pandas.core.frame.DataFrame'>\n",
      "RangeIndex: 9723 entries, 0 to 9722\n",
      "Data columns (total 6 columns):\n",
      " #   Column            Non-Null Count  Dtype \n",
      "---  ------            --------------  ----- \n",
      " 0   Order ID          9697 non-null   object\n",
      " 1   Product           9697 non-null   object\n",
      " 2   Quantity Ordered  9697 non-null   object\n",
      " 3   Price Each        9697 non-null   object\n",
      " 4   Order Date        9697 non-null   object\n",
      " 5   Purchase Address  9697 non-null   object\n",
      "dtypes: object(6)\n",
      "memory usage: 455.9+ KB\n"
     ]
    }
   ],
   "source": [
    "df.info()"
   ]
  },
  {
   "cell_type": "markdown",
   "id": "a91687b0",
   "metadata": {},
   "source": [
    "## Cleaning and Preparing Data "
   ]
  },
  {
   "cell_type": "code",
   "execution_count": 4,
   "id": "a3e976d6",
   "metadata": {},
   "outputs": [
    {
     "data": {
      "text/plain": [
       "(9723, 6)"
      ]
     },
     "execution_count": 4,
     "metadata": {},
     "output_type": "execute_result"
    }
   ],
   "source": [
    "df.shape"
   ]
  },
  {
   "cell_type": "code",
   "execution_count": 5,
   "id": "68f67189",
   "metadata": {},
   "outputs": [
    {
     "data": {
      "text/plain": [
       "Order ID            26\n",
       "Product             26\n",
       "Quantity Ordered    26\n",
       "Price Each          26\n",
       "Order Date          26\n",
       "Purchase Address    26\n",
       "dtype: int64"
      ]
     },
     "execution_count": 5,
     "metadata": {},
     "output_type": "execute_result"
    }
   ],
   "source": [
    "df.isna().sum()"
   ]
  },
  {
   "cell_type": "code",
   "execution_count": 6,
   "id": "086f4f8f",
   "metadata": {},
   "outputs": [
    {
     "data": {
      "text/plain": [
       "Order ID            26\n",
       "Product             26\n",
       "Quantity Ordered    26\n",
       "Price Each          26\n",
       "Order Date          26\n",
       "Purchase Address    26\n",
       "dtype: int64"
      ]
     },
     "execution_count": 6,
     "metadata": {},
     "output_type": "execute_result"
    }
   ],
   "source": [
    "df.isnull().sum()"
   ]
  },
  {
   "cell_type": "code",
   "execution_count": 7,
   "id": "56ad4a42",
   "metadata": {},
   "outputs": [
    {
     "data": {
      "text/html": [
       "<div>\n",
       "<style scoped>\n",
       "    .dataframe tbody tr th:only-of-type {\n",
       "        vertical-align: middle;\n",
       "    }\n",
       "\n",
       "    .dataframe tbody tr th {\n",
       "        vertical-align: top;\n",
       "    }\n",
       "\n",
       "    .dataframe thead th {\n",
       "        text-align: right;\n",
       "    }\n",
       "</style>\n",
       "<table border=\"1\" class=\"dataframe\">\n",
       "  <thead>\n",
       "    <tr style=\"text-align: right;\">\n",
       "      <th></th>\n",
       "      <th>Order ID</th>\n",
       "      <th>Product</th>\n",
       "      <th>Quantity Ordered</th>\n",
       "      <th>Price Each</th>\n",
       "      <th>Order Date</th>\n",
       "      <th>Purchase Address</th>\n",
       "    </tr>\n",
       "  </thead>\n",
       "  <tbody>\n",
       "    <tr>\n",
       "      <th>count</th>\n",
       "      <td>9697</td>\n",
       "      <td>9697</td>\n",
       "      <td>9697</td>\n",
       "      <td>9697</td>\n",
       "      <td>9697</td>\n",
       "      <td>9697</td>\n",
       "    </tr>\n",
       "    <tr>\n",
       "      <th>unique</th>\n",
       "      <td>9269</td>\n",
       "      <td>20</td>\n",
       "      <td>8</td>\n",
       "      <td>19</td>\n",
       "      <td>8077</td>\n",
       "      <td>9161</td>\n",
       "    </tr>\n",
       "    <tr>\n",
       "      <th>top</th>\n",
       "      <td>Order ID</td>\n",
       "      <td>USB-C Charging Cable</td>\n",
       "      <td>1</td>\n",
       "      <td>11.95</td>\n",
       "      <td>Order Date</td>\n",
       "      <td>Purchase Address</td>\n",
       "    </tr>\n",
       "    <tr>\n",
       "      <th>freq</th>\n",
       "      <td>16</td>\n",
       "      <td>1171</td>\n",
       "      <td>8795</td>\n",
       "      <td>1171</td>\n",
       "      <td>16</td>\n",
       "      <td>16</td>\n",
       "    </tr>\n",
       "  </tbody>\n",
       "</table>\n",
       "</div>"
      ],
      "text/plain": [
       "        Order ID               Product Quantity Ordered Price Each  \\\n",
       "count       9697                  9697             9697       9697   \n",
       "unique      9269                    20                8         19   \n",
       "top     Order ID  USB-C Charging Cable                1      11.95   \n",
       "freq          16                  1171             8795       1171   \n",
       "\n",
       "        Order Date  Purchase Address  \n",
       "count         9697              9697  \n",
       "unique        8077              9161  \n",
       "top     Order Date  Purchase Address  \n",
       "freq            16                16  "
      ]
     },
     "execution_count": 7,
     "metadata": {},
     "output_type": "execute_result"
    }
   ],
   "source": [
    "df.describe()"
   ]
  },
  {
   "cell_type": "markdown",
   "id": "c5f3a9fe",
   "metadata": {},
   "source": [
    "##### Renaming columns - removing spaces from names  "
   ]
  },
  {
   "cell_type": "code",
   "execution_count": 8,
   "id": "5392d133",
   "metadata": {},
   "outputs": [
    {
     "data": {
      "text/plain": [
       "Index(['Order ID', 'Product', 'Quantity Ordered', 'Price Each', 'Order Date',\n",
       "       'Purchase Address'],\n",
       "      dtype='object')"
      ]
     },
     "execution_count": 8,
     "metadata": {},
     "output_type": "execute_result"
    }
   ],
   "source": [
    "df.columns"
   ]
  },
  {
   "cell_type": "code",
   "execution_count": 9,
   "id": "d24f2530",
   "metadata": {},
   "outputs": [],
   "source": [
    "df = df.rename(columns={\n",
    "    'Order ID': 'Order_ID',\n",
    "    'Quantity Ordered':'Quantity_Ordered', \n",
    "    'Price Each':'Price_Each', \n",
    "    'Order Date':'Order_Date',\n",
    "    'Purchase Address':'Purchase_Address'\n",
    "})"
   ]
  },
  {
   "cell_type": "code",
   "execution_count": 10,
   "id": "25aa1cee",
   "metadata": {},
   "outputs": [
    {
     "name": "stdout",
     "output_type": "stream",
     "text": [
      "<class 'pandas.core.frame.DataFrame'>\n",
      "RangeIndex: 9723 entries, 0 to 9722\n",
      "Data columns (total 6 columns):\n",
      " #   Column            Non-Null Count  Dtype \n",
      "---  ------            --------------  ----- \n",
      " 0   Order_ID          9697 non-null   object\n",
      " 1   Product           9697 non-null   object\n",
      " 2   Quantity_Ordered  9697 non-null   object\n",
      " 3   Price_Each        9697 non-null   object\n",
      " 4   Order_Date        9697 non-null   object\n",
      " 5   Purchase_Address  9697 non-null   object\n",
      "dtypes: object(6)\n",
      "memory usage: 455.9+ KB\n"
     ]
    }
   ],
   "source": [
    "df.info()"
   ]
  },
  {
   "cell_type": "markdown",
   "id": "5dfabf3f",
   "metadata": {},
   "source": [
    "##### Changing Order_Date type from object to datetime "
   ]
  },
  {
   "cell_type": "code",
   "execution_count": 11,
   "id": "19e9012d",
   "metadata": {},
   "outputs": [
    {
     "data": {
      "text/plain": [
       "0       01/22/19 21:25\n",
       "1       01/28/19 14:15\n",
       "2       01/17/19 13:33\n",
       "3       01/05/19 20:33\n",
       "4       01/25/19 11:59\n",
       "             ...      \n",
       "9718    01/26/19 19:09\n",
       "9719    01/10/19 22:58\n",
       "9720    01/21/19 14:31\n",
       "9721    01/15/19 14:21\n",
       "9722    01/13/19 16:43\n",
       "Name: Order_Date, Length: 9723, dtype: object"
      ]
     },
     "execution_count": 11,
     "metadata": {},
     "output_type": "execute_result"
    }
   ],
   "source": [
    "df.Order_Date"
   ]
  },
  {
   "cell_type": "code",
   "execution_count": 12,
   "id": "cbb24995",
   "metadata": {},
   "outputs": [],
   "source": [
    "df['Order_Date']=pd.to_datetime(df['Order_Date'], errors='coerce', format='%m/%d/%y %H:%M')"
   ]
  },
  {
   "cell_type": "code",
   "execution_count": 13,
   "id": "ae22f329",
   "metadata": {},
   "outputs": [
    {
     "name": "stdout",
     "output_type": "stream",
     "text": [
      "<class 'pandas.core.frame.DataFrame'>\n",
      "RangeIndex: 9723 entries, 0 to 9722\n",
      "Data columns (total 6 columns):\n",
      " #   Column            Non-Null Count  Dtype         \n",
      "---  ------            --------------  -----         \n",
      " 0   Order_ID          9697 non-null   object        \n",
      " 1   Product           9697 non-null   object        \n",
      " 2   Quantity_Ordered  9697 non-null   object        \n",
      " 3   Price_Each        9697 non-null   object        \n",
      " 4   Order_Date        9681 non-null   datetime64[ns]\n",
      " 5   Purchase_Address  9697 non-null   object        \n",
      "dtypes: datetime64[ns](1), object(5)\n",
      "memory usage: 455.9+ KB\n"
     ]
    }
   ],
   "source": [
    "df.info()"
   ]
  },
  {
   "cell_type": "code",
   "execution_count": 14,
   "id": "dd7fa441",
   "metadata": {},
   "outputs": [
    {
     "data": {
      "text/plain": [
       "0      2019-01-22 21:25:00\n",
       "1      2019-01-28 14:15:00\n",
       "2      2019-01-17 13:33:00\n",
       "3      2019-01-05 20:33:00\n",
       "4      2019-01-25 11:59:00\n",
       "               ...        \n",
       "9718   2019-01-26 19:09:00\n",
       "9719   2019-01-10 22:58:00\n",
       "9720   2019-01-21 14:31:00\n",
       "9721   2019-01-15 14:21:00\n",
       "9722   2019-01-13 16:43:00\n",
       "Name: Order_Date, Length: 9723, dtype: datetime64[ns]"
      ]
     },
     "execution_count": 14,
     "metadata": {},
     "output_type": "execute_result"
    }
   ],
   "source": [
    "df.Order_Date"
   ]
  },
  {
   "cell_type": "markdown",
   "id": "d5ed4429",
   "metadata": {},
   "source": [
    "##### Removing Duplicate values"
   ]
  },
  {
   "cell_type": "code",
   "execution_count": 15,
   "id": "172aaf98",
   "metadata": {},
   "outputs": [
    {
     "data": {
      "text/html": [
       "<div>\n",
       "<style scoped>\n",
       "    .dataframe tbody tr th:only-of-type {\n",
       "        vertical-align: middle;\n",
       "    }\n",
       "\n",
       "    .dataframe tbody tr th {\n",
       "        vertical-align: top;\n",
       "    }\n",
       "\n",
       "    .dataframe thead th {\n",
       "        text-align: right;\n",
       "    }\n",
       "</style>\n",
       "<table border=\"1\" class=\"dataframe\">\n",
       "  <thead>\n",
       "    <tr style=\"text-align: right;\">\n",
       "      <th></th>\n",
       "      <th>Order_ID</th>\n",
       "      <th>Product</th>\n",
       "      <th>Quantity_Ordered</th>\n",
       "      <th>Price_Each</th>\n",
       "      <th>Order_Date</th>\n",
       "      <th>Purchase_Address</th>\n",
       "    </tr>\n",
       "  </thead>\n",
       "  <tbody>\n",
       "    <tr>\n",
       "      <th>1073</th>\n",
       "      <td>Order ID</td>\n",
       "      <td>Product</td>\n",
       "      <td>Quantity Ordered</td>\n",
       "      <td>Price Each</td>\n",
       "      <td>NaT</td>\n",
       "      <td>Purchase Address</td>\n",
       "    </tr>\n",
       "    <tr>\n",
       "      <th>1102</th>\n",
       "      <td>Order ID</td>\n",
       "      <td>Product</td>\n",
       "      <td>Quantity Ordered</td>\n",
       "      <td>Price Each</td>\n",
       "      <td>NaT</td>\n",
       "      <td>Purchase Address</td>\n",
       "    </tr>\n",
       "    <tr>\n",
       "      <th>1194</th>\n",
       "      <td>Order ID</td>\n",
       "      <td>Product</td>\n",
       "      <td>Quantity Ordered</td>\n",
       "      <td>Price Each</td>\n",
       "      <td>NaT</td>\n",
       "      <td>Purchase Address</td>\n",
       "    </tr>\n",
       "    <tr>\n",
       "      <th>1897</th>\n",
       "      <td>Order ID</td>\n",
       "      <td>Product</td>\n",
       "      <td>Quantity Ordered</td>\n",
       "      <td>Price Each</td>\n",
       "      <td>NaT</td>\n",
       "      <td>Purchase Address</td>\n",
       "    </tr>\n",
       "    <tr>\n",
       "      <th>2463</th>\n",
       "      <td>Order ID</td>\n",
       "      <td>Product</td>\n",
       "      <td>Quantity Ordered</td>\n",
       "      <td>Price Each</td>\n",
       "      <td>NaT</td>\n",
       "      <td>Purchase Address</td>\n",
       "    </tr>\n",
       "    <tr>\n",
       "      <th>3115</th>\n",
       "      <td>Order ID</td>\n",
       "      <td>Product</td>\n",
       "      <td>Quantity Ordered</td>\n",
       "      <td>Price Each</td>\n",
       "      <td>NaT</td>\n",
       "      <td>Purchase Address</td>\n",
       "    </tr>\n",
       "    <tr>\n",
       "      <th>3247</th>\n",
       "      <td>Order ID</td>\n",
       "      <td>Product</td>\n",
       "      <td>Quantity Ordered</td>\n",
       "      <td>Price Each</td>\n",
       "      <td>NaT</td>\n",
       "      <td>Purchase Address</td>\n",
       "    </tr>\n",
       "    <tr>\n",
       "      <th>3612</th>\n",
       "      <td>Order ID</td>\n",
       "      <td>Product</td>\n",
       "      <td>Quantity Ordered</td>\n",
       "      <td>Price Each</td>\n",
       "      <td>NaT</td>\n",
       "      <td>Purchase Address</td>\n",
       "    </tr>\n",
       "    <tr>\n",
       "      <th>3623</th>\n",
       "      <td>Order ID</td>\n",
       "      <td>Product</td>\n",
       "      <td>Quantity Ordered</td>\n",
       "      <td>Price Each</td>\n",
       "      <td>NaT</td>\n",
       "      <td>Purchase Address</td>\n",
       "    </tr>\n",
       "    <tr>\n",
       "      <th>4901</th>\n",
       "      <td>Order ID</td>\n",
       "      <td>Product</td>\n",
       "      <td>Quantity Ordered</td>\n",
       "      <td>Price Each</td>\n",
       "      <td>NaT</td>\n",
       "      <td>Purchase Address</td>\n",
       "    </tr>\n",
       "    <tr>\n",
       "      <th>5593</th>\n",
       "      <td>Order ID</td>\n",
       "      <td>Product</td>\n",
       "      <td>Quantity Ordered</td>\n",
       "      <td>Price Each</td>\n",
       "      <td>NaT</td>\n",
       "      <td>Purchase Address</td>\n",
       "    </tr>\n",
       "    <tr>\n",
       "      <th>6506</th>\n",
       "      <td>Order ID</td>\n",
       "      <td>Product</td>\n",
       "      <td>Quantity Ordered</td>\n",
       "      <td>Price Each</td>\n",
       "      <td>NaT</td>\n",
       "      <td>Purchase Address</td>\n",
       "    </tr>\n",
       "    <tr>\n",
       "      <th>7544</th>\n",
       "      <td>Order ID</td>\n",
       "      <td>Product</td>\n",
       "      <td>Quantity Ordered</td>\n",
       "      <td>Price Each</td>\n",
       "      <td>NaT</td>\n",
       "      <td>Purchase Address</td>\n",
       "    </tr>\n",
       "    <tr>\n",
       "      <th>7674</th>\n",
       "      <td>Order ID</td>\n",
       "      <td>Product</td>\n",
       "      <td>Quantity Ordered</td>\n",
       "      <td>Price Each</td>\n",
       "      <td>NaT</td>\n",
       "      <td>Purchase Address</td>\n",
       "    </tr>\n",
       "    <tr>\n",
       "      <th>8271</th>\n",
       "      <td>Order ID</td>\n",
       "      <td>Product</td>\n",
       "      <td>Quantity Ordered</td>\n",
       "      <td>Price Each</td>\n",
       "      <td>NaT</td>\n",
       "      <td>Purchase Address</td>\n",
       "    </tr>\n",
       "    <tr>\n",
       "      <th>9311</th>\n",
       "      <td>Order ID</td>\n",
       "      <td>Product</td>\n",
       "      <td>Quantity Ordered</td>\n",
       "      <td>Price Each</td>\n",
       "      <td>NaT</td>\n",
       "      <td>Purchase Address</td>\n",
       "    </tr>\n",
       "  </tbody>\n",
       "</table>\n",
       "</div>"
      ],
      "text/plain": [
       "      Order_ID  Product  Quantity_Ordered  Price_Each Order_Date  \\\n",
       "1073  Order ID  Product  Quantity Ordered  Price Each        NaT   \n",
       "1102  Order ID  Product  Quantity Ordered  Price Each        NaT   \n",
       "1194  Order ID  Product  Quantity Ordered  Price Each        NaT   \n",
       "1897  Order ID  Product  Quantity Ordered  Price Each        NaT   \n",
       "2463  Order ID  Product  Quantity Ordered  Price Each        NaT   \n",
       "3115  Order ID  Product  Quantity Ordered  Price Each        NaT   \n",
       "3247  Order ID  Product  Quantity Ordered  Price Each        NaT   \n",
       "3612  Order ID  Product  Quantity Ordered  Price Each        NaT   \n",
       "3623  Order ID  Product  Quantity Ordered  Price Each        NaT   \n",
       "4901  Order ID  Product  Quantity Ordered  Price Each        NaT   \n",
       "5593  Order ID  Product  Quantity Ordered  Price Each        NaT   \n",
       "6506  Order ID  Product  Quantity Ordered  Price Each        NaT   \n",
       "7544  Order ID  Product  Quantity Ordered  Price Each        NaT   \n",
       "7674  Order ID  Product  Quantity Ordered  Price Each        NaT   \n",
       "8271  Order ID  Product  Quantity Ordered  Price Each        NaT   \n",
       "9311  Order ID  Product  Quantity Ordered  Price Each        NaT   \n",
       "\n",
       "      Purchase_Address  \n",
       "1073  Purchase Address  \n",
       "1102  Purchase Address  \n",
       "1194  Purchase Address  \n",
       "1897  Purchase Address  \n",
       "2463  Purchase Address  \n",
       "3115  Purchase Address  \n",
       "3247  Purchase Address  \n",
       "3612  Purchase Address  \n",
       "3623  Purchase Address  \n",
       "4901  Purchase Address  \n",
       "5593  Purchase Address  \n",
       "6506  Purchase Address  \n",
       "7544  Purchase Address  \n",
       "7674  Purchase Address  \n",
       "8271  Purchase Address  \n",
       "9311  Purchase Address  "
      ]
     },
     "execution_count": 15,
     "metadata": {},
     "output_type": "execute_result"
    }
   ],
   "source": [
    "df.loc[df['Order_ID'] == \"Order ID\"]"
   ]
  },
  {
   "cell_type": "code",
   "execution_count": 16,
   "id": "777969fb",
   "metadata": {},
   "outputs": [
    {
     "data": {
      "text/plain": [
       "16"
      ]
     },
     "execution_count": 16,
     "metadata": {},
     "output_type": "execute_result"
    }
   ],
   "source": [
    "(df['Order_ID'] == \"Order ID\").sum()"
   ]
  },
  {
   "cell_type": "code",
   "execution_count": 17,
   "id": "f09685a5",
   "metadata": {},
   "outputs": [],
   "source": [
    "df['Order_ID']=pd.to_numeric(df['Order_ID'], errors='coerce')"
   ]
  },
  {
   "cell_type": "code",
   "execution_count": 18,
   "id": "a8e206cd",
   "metadata": {},
   "outputs": [
    {
     "name": "stdout",
     "output_type": "stream",
     "text": [
      "<class 'pandas.core.frame.DataFrame'>\n",
      "RangeIndex: 9723 entries, 0 to 9722\n",
      "Data columns (total 6 columns):\n",
      " #   Column            Non-Null Count  Dtype         \n",
      "---  ------            --------------  -----         \n",
      " 0   Order_ID          9681 non-null   float64       \n",
      " 1   Product           9697 non-null   object        \n",
      " 2   Quantity_Ordered  9697 non-null   object        \n",
      " 3   Price_Each        9697 non-null   object        \n",
      " 4   Order_Date        9681 non-null   datetime64[ns]\n",
      " 5   Purchase_Address  9697 non-null   object        \n",
      "dtypes: datetime64[ns](1), float64(1), object(4)\n",
      "memory usage: 455.9+ KB\n"
     ]
    }
   ],
   "source": [
    "df.info()"
   ]
  },
  {
   "cell_type": "markdown",
   "id": "02fdefb8",
   "metadata": {},
   "source": [
    "#### Dropping NaN/Null values "
   ]
  },
  {
   "cell_type": "code",
   "execution_count": 19,
   "id": "edf1da57",
   "metadata": {},
   "outputs": [
    {
     "data": {
      "text/plain": [
       "Order_ID            42\n",
       "Product             26\n",
       "Quantity_Ordered    26\n",
       "Price_Each          26\n",
       "Order_Date          42\n",
       "Purchase_Address    26\n",
       "dtype: int64"
      ]
     },
     "execution_count": 19,
     "metadata": {},
     "output_type": "execute_result"
    }
   ],
   "source": [
    "df.isna().sum()"
   ]
  },
  {
   "cell_type": "code",
   "execution_count": 20,
   "id": "4dadfe3a",
   "metadata": {},
   "outputs": [],
   "source": [
    "df.dropna(inplace=True)"
   ]
  },
  {
   "cell_type": "code",
   "execution_count": 21,
   "id": "9778d37a",
   "metadata": {},
   "outputs": [
    {
     "data": {
      "text/plain": [
       "(9681, 6)"
      ]
     },
     "execution_count": 21,
     "metadata": {},
     "output_type": "execute_result"
    }
   ],
   "source": [
    "df.shape"
   ]
  },
  {
   "cell_type": "code",
   "execution_count": 22,
   "id": "e2f7c494",
   "metadata": {},
   "outputs": [
    {
     "data": {
      "text/plain": [
       "Order_ID            0\n",
       "Product             0\n",
       "Quantity_Ordered    0\n",
       "Price_Each          0\n",
       "Order_Date          0\n",
       "Purchase_Address    0\n",
       "dtype: int64"
      ]
     },
     "execution_count": 22,
     "metadata": {},
     "output_type": "execute_result"
    }
   ],
   "source": [
    "df.isna().sum()"
   ]
  },
  {
   "cell_type": "code",
   "execution_count": 23,
   "id": "49fc128f",
   "metadata": {},
   "outputs": [
    {
     "name": "stdout",
     "output_type": "stream",
     "text": [
      "<class 'pandas.core.frame.DataFrame'>\n",
      "Int64Index: 9681 entries, 0 to 9722\n",
      "Data columns (total 6 columns):\n",
      " #   Column            Non-Null Count  Dtype         \n",
      "---  ------            --------------  -----         \n",
      " 0   Order_ID          9681 non-null   float64       \n",
      " 1   Product           9681 non-null   object        \n",
      " 2   Quantity_Ordered  9681 non-null   object        \n",
      " 3   Price_Each        9681 non-null   object        \n",
      " 4   Order_Date        9681 non-null   datetime64[ns]\n",
      " 5   Purchase_Address  9681 non-null   object        \n",
      "dtypes: datetime64[ns](1), float64(1), object(4)\n",
      "memory usage: 529.4+ KB\n"
     ]
    }
   ],
   "source": [
    "df.info()"
   ]
  },
  {
   "cell_type": "markdown",
   "id": "b2d5d87e",
   "metadata": {},
   "source": [
    "##### Converting Quantity_Ordered from Object to Int dtype "
   ]
  },
  {
   "cell_type": "code",
   "execution_count": 24,
   "id": "662e2683",
   "metadata": {},
   "outputs": [],
   "source": [
    "df['Quantity_Ordered']=pd.to_numeric(df['Quantity_Ordered'])"
   ]
  },
  {
   "cell_type": "code",
   "execution_count": 25,
   "id": "d2cee9a0",
   "metadata": {},
   "outputs": [
    {
     "name": "stdout",
     "output_type": "stream",
     "text": [
      "<class 'pandas.core.frame.DataFrame'>\n",
      "Int64Index: 9681 entries, 0 to 9722\n",
      "Data columns (total 6 columns):\n",
      " #   Column            Non-Null Count  Dtype         \n",
      "---  ------            --------------  -----         \n",
      " 0   Order_ID          9681 non-null   float64       \n",
      " 1   Product           9681 non-null   object        \n",
      " 2   Quantity_Ordered  9681 non-null   int64         \n",
      " 3   Price_Each        9681 non-null   object        \n",
      " 4   Order_Date        9681 non-null   datetime64[ns]\n",
      " 5   Purchase_Address  9681 non-null   object        \n",
      "dtypes: datetime64[ns](1), float64(1), int64(1), object(3)\n",
      "memory usage: 529.4+ KB\n"
     ]
    }
   ],
   "source": [
    "df.info()"
   ]
  },
  {
   "cell_type": "markdown",
   "id": "13d59583",
   "metadata": {},
   "source": [
    "##### Converting Price_Each to Float "
   ]
  },
  {
   "cell_type": "code",
   "execution_count": 26,
   "id": "0fc67864",
   "metadata": {},
   "outputs": [],
   "source": [
    "df['Price_Each']=pd.to_numeric(df['Price_Each'])"
   ]
  },
  {
   "cell_type": "code",
   "execution_count": 27,
   "id": "a2b73fcc",
   "metadata": {},
   "outputs": [
    {
     "name": "stdout",
     "output_type": "stream",
     "text": [
      "<class 'pandas.core.frame.DataFrame'>\n",
      "Int64Index: 9681 entries, 0 to 9722\n",
      "Data columns (total 6 columns):\n",
      " #   Column            Non-Null Count  Dtype         \n",
      "---  ------            --------------  -----         \n",
      " 0   Order_ID          9681 non-null   float64       \n",
      " 1   Product           9681 non-null   object        \n",
      " 2   Quantity_Ordered  9681 non-null   int64         \n",
      " 3   Price_Each        9681 non-null   float64       \n",
      " 4   Order_Date        9681 non-null   datetime64[ns]\n",
      " 5   Purchase_Address  9681 non-null   object        \n",
      "dtypes: datetime64[ns](1), float64(2), int64(1), object(2)\n",
      "memory usage: 529.4+ KB\n"
     ]
    }
   ],
   "source": [
    "df.info()"
   ]
  },
  {
   "cell_type": "markdown",
   "id": "0750d6b9",
   "metadata": {},
   "source": [
    "##### Extracting City from Purchase_Address"
   ]
  },
  {
   "cell_type": "code",
   "execution_count": 28,
   "id": "8e0b4d8b",
   "metadata": {},
   "outputs": [
    {
     "data": {
      "text/plain": [
       "0             944 Walnut St, Boston, MA 02215\n",
       "1            185 Maple St, Portland, OR 97035\n",
       "2       538 Adams St, San Francisco, CA 94016\n",
       "3          738 10th St, Los Angeles, CA 90001\n",
       "4               387 10th St, Austin, TX 73301\n",
       "                        ...                  \n",
       "9718              95 8th St, Dallas, TX 75001\n",
       "9719      403 7th St, San Francisco, CA 94016\n",
       "9720          214 Main St, Portland, OR 97035\n",
       "9721        810 2nd St, Los Angeles, CA 90001\n",
       "9722           428 Cedar St, Boston, MA 02215\n",
       "Name: Purchase_Address, Length: 9681, dtype: object"
      ]
     },
     "execution_count": 28,
     "metadata": {},
     "output_type": "execute_result"
    }
   ],
   "source": [
    "df['Purchase_Address']"
   ]
  },
  {
   "cell_type": "code",
   "execution_count": 29,
   "id": "3c383440",
   "metadata": {},
   "outputs": [],
   "source": [
    "df[\"City\"] = df[\"Purchase_Address\"].apply(lambda x:x.split(',')[1].strip())"
   ]
  },
  {
   "cell_type": "code",
   "execution_count": 30,
   "id": "58409cea",
   "metadata": {},
   "outputs": [
    {
     "name": "stdout",
     "output_type": "stream",
     "text": [
      "<class 'pandas.core.frame.DataFrame'>\n",
      "Int64Index: 9681 entries, 0 to 9722\n",
      "Data columns (total 7 columns):\n",
      " #   Column            Non-Null Count  Dtype         \n",
      "---  ------            --------------  -----         \n",
      " 0   Order_ID          9681 non-null   float64       \n",
      " 1   Product           9681 non-null   object        \n",
      " 2   Quantity_Ordered  9681 non-null   int64         \n",
      " 3   Price_Each        9681 non-null   float64       \n",
      " 4   Order_Date        9681 non-null   datetime64[ns]\n",
      " 5   Purchase_Address  9681 non-null   object        \n",
      " 6   City              9681 non-null   object        \n",
      "dtypes: datetime64[ns](1), float64(2), int64(1), object(3)\n",
      "memory usage: 605.1+ KB\n"
     ]
    }
   ],
   "source": [
    "df.info()"
   ]
  },
  {
   "cell_type": "code",
   "execution_count": 31,
   "id": "620e3e64",
   "metadata": {},
   "outputs": [
    {
     "data": {
      "text/html": [
       "<div>\n",
       "<style scoped>\n",
       "    .dataframe tbody tr th:only-of-type {\n",
       "        vertical-align: middle;\n",
       "    }\n",
       "\n",
       "    .dataframe tbody tr th {\n",
       "        vertical-align: top;\n",
       "    }\n",
       "\n",
       "    .dataframe thead th {\n",
       "        text-align: right;\n",
       "    }\n",
       "</style>\n",
       "<table border=\"1\" class=\"dataframe\">\n",
       "  <thead>\n",
       "    <tr style=\"text-align: right;\">\n",
       "      <th></th>\n",
       "      <th>Order_ID</th>\n",
       "      <th>Product</th>\n",
       "      <th>Quantity_Ordered</th>\n",
       "      <th>Price_Each</th>\n",
       "      <th>Order_Date</th>\n",
       "      <th>Purchase_Address</th>\n",
       "      <th>City</th>\n",
       "    </tr>\n",
       "  </thead>\n",
       "  <tbody>\n",
       "    <tr>\n",
       "      <th>0</th>\n",
       "      <td>141234.0</td>\n",
       "      <td>iPhone</td>\n",
       "      <td>1</td>\n",
       "      <td>700.00</td>\n",
       "      <td>2019-01-22 21:25:00</td>\n",
       "      <td>944 Walnut St, Boston, MA 02215</td>\n",
       "      <td>Boston</td>\n",
       "    </tr>\n",
       "    <tr>\n",
       "      <th>1</th>\n",
       "      <td>141235.0</td>\n",
       "      <td>Lightning Charging Cable</td>\n",
       "      <td>1</td>\n",
       "      <td>14.95</td>\n",
       "      <td>2019-01-28 14:15:00</td>\n",
       "      <td>185 Maple St, Portland, OR 97035</td>\n",
       "      <td>Portland</td>\n",
       "    </tr>\n",
       "    <tr>\n",
       "      <th>2</th>\n",
       "      <td>141236.0</td>\n",
       "      <td>Wired Headphones</td>\n",
       "      <td>2</td>\n",
       "      <td>11.99</td>\n",
       "      <td>2019-01-17 13:33:00</td>\n",
       "      <td>538 Adams St, San Francisco, CA 94016</td>\n",
       "      <td>San Francisco</td>\n",
       "    </tr>\n",
       "    <tr>\n",
       "      <th>3</th>\n",
       "      <td>141237.0</td>\n",
       "      <td>27in FHD Monitor</td>\n",
       "      <td>1</td>\n",
       "      <td>149.99</td>\n",
       "      <td>2019-01-05 20:33:00</td>\n",
       "      <td>738 10th St, Los Angeles, CA 90001</td>\n",
       "      <td>Los Angeles</td>\n",
       "    </tr>\n",
       "    <tr>\n",
       "      <th>4</th>\n",
       "      <td>141238.0</td>\n",
       "      <td>Wired Headphones</td>\n",
       "      <td>1</td>\n",
       "      <td>11.99</td>\n",
       "      <td>2019-01-25 11:59:00</td>\n",
       "      <td>387 10th St, Austin, TX 73301</td>\n",
       "      <td>Austin</td>\n",
       "    </tr>\n",
       "  </tbody>\n",
       "</table>\n",
       "</div>"
      ],
      "text/plain": [
       "   Order_ID                   Product  Quantity_Ordered  Price_Each  \\\n",
       "0  141234.0                    iPhone                 1      700.00   \n",
       "1  141235.0  Lightning Charging Cable                 1       14.95   \n",
       "2  141236.0          Wired Headphones                 2       11.99   \n",
       "3  141237.0          27in FHD Monitor                 1      149.99   \n",
       "4  141238.0          Wired Headphones                 1       11.99   \n",
       "\n",
       "           Order_Date                       Purchase_Address           City  \n",
       "0 2019-01-22 21:25:00        944 Walnut St, Boston, MA 02215         Boston  \n",
       "1 2019-01-28 14:15:00       185 Maple St, Portland, OR 97035       Portland  \n",
       "2 2019-01-17 13:33:00  538 Adams St, San Francisco, CA 94016  San Francisco  \n",
       "3 2019-01-05 20:33:00     738 10th St, Los Angeles, CA 90001    Los Angeles  \n",
       "4 2019-01-25 11:59:00          387 10th St, Austin, TX 73301         Austin  "
      ]
     },
     "execution_count": 31,
     "metadata": {},
     "output_type": "execute_result"
    }
   ],
   "source": [
    "df.head()"
   ]
  },
  {
   "cell_type": "markdown",
   "id": "9fc64057",
   "metadata": {},
   "source": [
    "##### Extracting Month from Order_Date"
   ]
  },
  {
   "cell_type": "code",
   "execution_count": 32,
   "id": "047ea1f2",
   "metadata": {},
   "outputs": [],
   "source": [
    "df['Month']=pd.DatetimeIndex(df.Order_Date).month"
   ]
  },
  {
   "cell_type": "code",
   "execution_count": 33,
   "id": "81d92494",
   "metadata": {},
   "outputs": [
    {
     "data": {
      "text/html": [
       "<div>\n",
       "<style scoped>\n",
       "    .dataframe tbody tr th:only-of-type {\n",
       "        vertical-align: middle;\n",
       "    }\n",
       "\n",
       "    .dataframe tbody tr th {\n",
       "        vertical-align: top;\n",
       "    }\n",
       "\n",
       "    .dataframe thead th {\n",
       "        text-align: right;\n",
       "    }\n",
       "</style>\n",
       "<table border=\"1\" class=\"dataframe\">\n",
       "  <thead>\n",
       "    <tr style=\"text-align: right;\">\n",
       "      <th></th>\n",
       "      <th>Order_ID</th>\n",
       "      <th>Product</th>\n",
       "      <th>Quantity_Ordered</th>\n",
       "      <th>Price_Each</th>\n",
       "      <th>Order_Date</th>\n",
       "      <th>Purchase_Address</th>\n",
       "      <th>City</th>\n",
       "      <th>Month</th>\n",
       "    </tr>\n",
       "  </thead>\n",
       "  <tbody>\n",
       "    <tr>\n",
       "      <th>0</th>\n",
       "      <td>141234.0</td>\n",
       "      <td>iPhone</td>\n",
       "      <td>1</td>\n",
       "      <td>700.00</td>\n",
       "      <td>2019-01-22 21:25:00</td>\n",
       "      <td>944 Walnut St, Boston, MA 02215</td>\n",
       "      <td>Boston</td>\n",
       "      <td>1</td>\n",
       "    </tr>\n",
       "    <tr>\n",
       "      <th>1</th>\n",
       "      <td>141235.0</td>\n",
       "      <td>Lightning Charging Cable</td>\n",
       "      <td>1</td>\n",
       "      <td>14.95</td>\n",
       "      <td>2019-01-28 14:15:00</td>\n",
       "      <td>185 Maple St, Portland, OR 97035</td>\n",
       "      <td>Portland</td>\n",
       "      <td>1</td>\n",
       "    </tr>\n",
       "    <tr>\n",
       "      <th>2</th>\n",
       "      <td>141236.0</td>\n",
       "      <td>Wired Headphones</td>\n",
       "      <td>2</td>\n",
       "      <td>11.99</td>\n",
       "      <td>2019-01-17 13:33:00</td>\n",
       "      <td>538 Adams St, San Francisco, CA 94016</td>\n",
       "      <td>San Francisco</td>\n",
       "      <td>1</td>\n",
       "    </tr>\n",
       "    <tr>\n",
       "      <th>3</th>\n",
       "      <td>141237.0</td>\n",
       "      <td>27in FHD Monitor</td>\n",
       "      <td>1</td>\n",
       "      <td>149.99</td>\n",
       "      <td>2019-01-05 20:33:00</td>\n",
       "      <td>738 10th St, Los Angeles, CA 90001</td>\n",
       "      <td>Los Angeles</td>\n",
       "      <td>1</td>\n",
       "    </tr>\n",
       "    <tr>\n",
       "      <th>4</th>\n",
       "      <td>141238.0</td>\n",
       "      <td>Wired Headphones</td>\n",
       "      <td>1</td>\n",
       "      <td>11.99</td>\n",
       "      <td>2019-01-25 11:59:00</td>\n",
       "      <td>387 10th St, Austin, TX 73301</td>\n",
       "      <td>Austin</td>\n",
       "      <td>1</td>\n",
       "    </tr>\n",
       "  </tbody>\n",
       "</table>\n",
       "</div>"
      ],
      "text/plain": [
       "   Order_ID                   Product  Quantity_Ordered  Price_Each  \\\n",
       "0  141234.0                    iPhone                 1      700.00   \n",
       "1  141235.0  Lightning Charging Cable                 1       14.95   \n",
       "2  141236.0          Wired Headphones                 2       11.99   \n",
       "3  141237.0          27in FHD Monitor                 1      149.99   \n",
       "4  141238.0          Wired Headphones                 1       11.99   \n",
       "\n",
       "           Order_Date                       Purchase_Address           City  \\\n",
       "0 2019-01-22 21:25:00        944 Walnut St, Boston, MA 02215         Boston   \n",
       "1 2019-01-28 14:15:00       185 Maple St, Portland, OR 97035       Portland   \n",
       "2 2019-01-17 13:33:00  538 Adams St, San Francisco, CA 94016  San Francisco   \n",
       "3 2019-01-05 20:33:00     738 10th St, Los Angeles, CA 90001    Los Angeles   \n",
       "4 2019-01-25 11:59:00          387 10th St, Austin, TX 73301         Austin   \n",
       "\n",
       "   Month  \n",
       "0      1  \n",
       "1      1  \n",
       "2      1  \n",
       "3      1  \n",
       "4      1  "
      ]
     },
     "execution_count": 33,
     "metadata": {},
     "output_type": "execute_result"
    }
   ],
   "source": [
    "df.head()"
   ]
  },
  {
   "cell_type": "markdown",
   "id": "549a15d0",
   "metadata": {},
   "source": [
    "## Answering Questions "
   ]
  },
  {
   "cell_type": "markdown",
   "id": "d6952d04",
   "metadata": {},
   "source": [
    "###  Q1. Total sales for each product."
   ]
  },
  {
   "cell_type": "code",
   "execution_count": 34,
   "id": "cdf5e08a",
   "metadata": {},
   "outputs": [],
   "source": [
    "df['Sales']=df['Quantity_Ordered']*df['Price_Each']"
   ]
  },
  {
   "cell_type": "code",
   "execution_count": 35,
   "id": "44561ebc",
   "metadata": {},
   "outputs": [
    {
     "data": {
      "text/html": [
       "<div>\n",
       "<style scoped>\n",
       "    .dataframe tbody tr th:only-of-type {\n",
       "        vertical-align: middle;\n",
       "    }\n",
       "\n",
       "    .dataframe tbody tr th {\n",
       "        vertical-align: top;\n",
       "    }\n",
       "\n",
       "    .dataframe thead th {\n",
       "        text-align: right;\n",
       "    }\n",
       "</style>\n",
       "<table border=\"1\" class=\"dataframe\">\n",
       "  <thead>\n",
       "    <tr style=\"text-align: right;\">\n",
       "      <th></th>\n",
       "      <th>Order_ID</th>\n",
       "      <th>Product</th>\n",
       "      <th>Quantity_Ordered</th>\n",
       "      <th>Price_Each</th>\n",
       "      <th>Order_Date</th>\n",
       "      <th>Purchase_Address</th>\n",
       "      <th>City</th>\n",
       "      <th>Month</th>\n",
       "      <th>Sales</th>\n",
       "    </tr>\n",
       "  </thead>\n",
       "  <tbody>\n",
       "    <tr>\n",
       "      <th>0</th>\n",
       "      <td>141234.0</td>\n",
       "      <td>iPhone</td>\n",
       "      <td>1</td>\n",
       "      <td>700.00</td>\n",
       "      <td>2019-01-22 21:25:00</td>\n",
       "      <td>944 Walnut St, Boston, MA 02215</td>\n",
       "      <td>Boston</td>\n",
       "      <td>1</td>\n",
       "      <td>700.00</td>\n",
       "    </tr>\n",
       "    <tr>\n",
       "      <th>1</th>\n",
       "      <td>141235.0</td>\n",
       "      <td>Lightning Charging Cable</td>\n",
       "      <td>1</td>\n",
       "      <td>14.95</td>\n",
       "      <td>2019-01-28 14:15:00</td>\n",
       "      <td>185 Maple St, Portland, OR 97035</td>\n",
       "      <td>Portland</td>\n",
       "      <td>1</td>\n",
       "      <td>14.95</td>\n",
       "    </tr>\n",
       "    <tr>\n",
       "      <th>2</th>\n",
       "      <td>141236.0</td>\n",
       "      <td>Wired Headphones</td>\n",
       "      <td>2</td>\n",
       "      <td>11.99</td>\n",
       "      <td>2019-01-17 13:33:00</td>\n",
       "      <td>538 Adams St, San Francisco, CA 94016</td>\n",
       "      <td>San Francisco</td>\n",
       "      <td>1</td>\n",
       "      <td>23.98</td>\n",
       "    </tr>\n",
       "    <tr>\n",
       "      <th>3</th>\n",
       "      <td>141237.0</td>\n",
       "      <td>27in FHD Monitor</td>\n",
       "      <td>1</td>\n",
       "      <td>149.99</td>\n",
       "      <td>2019-01-05 20:33:00</td>\n",
       "      <td>738 10th St, Los Angeles, CA 90001</td>\n",
       "      <td>Los Angeles</td>\n",
       "      <td>1</td>\n",
       "      <td>149.99</td>\n",
       "    </tr>\n",
       "    <tr>\n",
       "      <th>4</th>\n",
       "      <td>141238.0</td>\n",
       "      <td>Wired Headphones</td>\n",
       "      <td>1</td>\n",
       "      <td>11.99</td>\n",
       "      <td>2019-01-25 11:59:00</td>\n",
       "      <td>387 10th St, Austin, TX 73301</td>\n",
       "      <td>Austin</td>\n",
       "      <td>1</td>\n",
       "      <td>11.99</td>\n",
       "    </tr>\n",
       "  </tbody>\n",
       "</table>\n",
       "</div>"
      ],
      "text/plain": [
       "   Order_ID                   Product  Quantity_Ordered  Price_Each  \\\n",
       "0  141234.0                    iPhone                 1      700.00   \n",
       "1  141235.0  Lightning Charging Cable                 1       14.95   \n",
       "2  141236.0          Wired Headphones                 2       11.99   \n",
       "3  141237.0          27in FHD Monitor                 1      149.99   \n",
       "4  141238.0          Wired Headphones                 1       11.99   \n",
       "\n",
       "           Order_Date                       Purchase_Address           City  \\\n",
       "0 2019-01-22 21:25:00        944 Walnut St, Boston, MA 02215         Boston   \n",
       "1 2019-01-28 14:15:00       185 Maple St, Portland, OR 97035       Portland   \n",
       "2 2019-01-17 13:33:00  538 Adams St, San Francisco, CA 94016  San Francisco   \n",
       "3 2019-01-05 20:33:00     738 10th St, Los Angeles, CA 90001    Los Angeles   \n",
       "4 2019-01-25 11:59:00          387 10th St, Austin, TX 73301         Austin   \n",
       "\n",
       "   Month   Sales  \n",
       "0      1  700.00  \n",
       "1      1   14.95  \n",
       "2      1   23.98  \n",
       "3      1  149.99  \n",
       "4      1   11.99  "
      ]
     },
     "execution_count": 35,
     "metadata": {},
     "output_type": "execute_result"
    }
   ],
   "source": [
    "df.head()"
   ]
  },
  {
   "cell_type": "code",
   "execution_count": 36,
   "id": "7603fd9d",
   "metadata": {},
   "outputs": [],
   "source": [
    "# df.groupby(['Product'])[['Quantity_Ordered','Sales']].sum().sort_values('Quantity_Ordered', ascending=False)"
   ]
  },
  {
   "cell_type": "code",
   "execution_count": 37,
   "id": "5dbf03a8",
   "metadata": {},
   "outputs": [
    {
     "data": {
      "text/html": [
       "<div>\n",
       "<style scoped>\n",
       "    .dataframe tbody tr th:only-of-type {\n",
       "        vertical-align: middle;\n",
       "    }\n",
       "\n",
       "    .dataframe tbody tr th {\n",
       "        vertical-align: top;\n",
       "    }\n",
       "\n",
       "    .dataframe thead th {\n",
       "        text-align: right;\n",
       "    }\n",
       "</style>\n",
       "<table border=\"1\" class=\"dataframe\">\n",
       "  <thead>\n",
       "    <tr style=\"text-align: right;\">\n",
       "      <th></th>\n",
       "      <th>Quantity_Ordered</th>\n",
       "      <th>Sales</th>\n",
       "    </tr>\n",
       "    <tr>\n",
       "      <th>Product</th>\n",
       "      <th></th>\n",
       "      <th></th>\n",
       "    </tr>\n",
       "  </thead>\n",
       "  <tbody>\n",
       "    <tr>\n",
       "      <th>20in Monitor</th>\n",
       "      <td>215</td>\n",
       "      <td>23647.85</td>\n",
       "    </tr>\n",
       "    <tr>\n",
       "      <th>27in 4K Gaming Monitor</th>\n",
       "      <td>312</td>\n",
       "      <td>121676.88</td>\n",
       "    </tr>\n",
       "    <tr>\n",
       "      <th>27in FHD Monitor</th>\n",
       "      <td>419</td>\n",
       "      <td>62845.81</td>\n",
       "    </tr>\n",
       "    <tr>\n",
       "      <th>34in Ultrawide Monitor</th>\n",
       "      <td>314</td>\n",
       "      <td>119316.86</td>\n",
       "    </tr>\n",
       "    <tr>\n",
       "      <th>AA Batteries (4-pack)</th>\n",
       "      <td>1425</td>\n",
       "      <td>5472.00</td>\n",
       "    </tr>\n",
       "    <tr>\n",
       "      <th>AAA Batteries (4-pack)</th>\n",
       "      <td>1596</td>\n",
       "      <td>4772.04</td>\n",
       "    </tr>\n",
       "    <tr>\n",
       "      <th>Apple Airpods Headphones</th>\n",
       "      <td>814</td>\n",
       "      <td>122100.00</td>\n",
       "    </tr>\n",
       "    <tr>\n",
       "      <th>Bose SoundSport Headphones</th>\n",
       "      <td>659</td>\n",
       "      <td>65893.41</td>\n",
       "    </tr>\n",
       "    <tr>\n",
       "      <th>Flatscreen TV</th>\n",
       "      <td>243</td>\n",
       "      <td>72900.00</td>\n",
       "    </tr>\n",
       "    <tr>\n",
       "      <th>Google Phone</th>\n",
       "      <td>318</td>\n",
       "      <td>190800.00</td>\n",
       "    </tr>\n",
       "    <tr>\n",
       "      <th>LG Dryer</th>\n",
       "      <td>39</td>\n",
       "      <td>23400.00</td>\n",
       "    </tr>\n",
       "    <tr>\n",
       "      <th>LG Washing Machine</th>\n",
       "      <td>42</td>\n",
       "      <td>25200.00</td>\n",
       "    </tr>\n",
       "    <tr>\n",
       "      <th>Lightning Charging Cable</th>\n",
       "      <td>1151</td>\n",
       "      <td>17207.45</td>\n",
       "    </tr>\n",
       "    <tr>\n",
       "      <th>Macbook Pro Laptop</th>\n",
       "      <td>235</td>\n",
       "      <td>399500.00</td>\n",
       "    </tr>\n",
       "    <tr>\n",
       "      <th>ThinkPad Laptop</th>\n",
       "      <td>217</td>\n",
       "      <td>216997.83</td>\n",
       "    </tr>\n",
       "    <tr>\n",
       "      <th>USB-C Charging Cable</th>\n",
       "      <td>1284</td>\n",
       "      <td>15343.80</td>\n",
       "    </tr>\n",
       "    <tr>\n",
       "      <th>Vareebadd Phone</th>\n",
       "      <td>125</td>\n",
       "      <td>50000.00</td>\n",
       "    </tr>\n",
       "    <tr>\n",
       "      <th>Wired Headphones</th>\n",
       "      <td>1081</td>\n",
       "      <td>12961.19</td>\n",
       "    </tr>\n",
       "    <tr>\n",
       "      <th>iPhone</th>\n",
       "      <td>379</td>\n",
       "      <td>265300.00</td>\n",
       "    </tr>\n",
       "  </tbody>\n",
       "</table>\n",
       "</div>"
      ],
      "text/plain": [
       "                            Quantity_Ordered      Sales\n",
       "Product                                                \n",
       "20in Monitor                             215   23647.85\n",
       "27in 4K Gaming Monitor                   312  121676.88\n",
       "27in FHD Monitor                         419   62845.81\n",
       "34in Ultrawide Monitor                   314  119316.86\n",
       "AA Batteries (4-pack)                   1425    5472.00\n",
       "AAA Batteries (4-pack)                  1596    4772.04\n",
       "Apple Airpods Headphones                 814  122100.00\n",
       "Bose SoundSport Headphones               659   65893.41\n",
       "Flatscreen TV                            243   72900.00\n",
       "Google Phone                             318  190800.00\n",
       "LG Dryer                                  39   23400.00\n",
       "LG Washing Machine                        42   25200.00\n",
       "Lightning Charging Cable                1151   17207.45\n",
       "Macbook Pro Laptop                       235  399500.00\n",
       "ThinkPad Laptop                          217  216997.83\n",
       "USB-C Charging Cable                    1284   15343.80\n",
       "Vareebadd Phone                          125   50000.00\n",
       "Wired Headphones                        1081   12961.19\n",
       "iPhone                                   379  265300.00"
      ]
     },
     "execution_count": 37,
     "metadata": {},
     "output_type": "execute_result"
    }
   ],
   "source": [
    "df.groupby(['Product'])[['Quantity_Ordered','Sales']].sum()"
   ]
  },
  {
   "cell_type": "markdown",
   "id": "d165ee4e",
   "metadata": {},
   "source": [
    "### Q 2. Average sales for each product per day."
   ]
  },
  {
   "cell_type": "code",
   "execution_count": 38,
   "id": "6010f686",
   "metadata": {},
   "outputs": [],
   "source": [
    "df['Day']= df['Order_Date'].dt.day_name()"
   ]
  },
  {
   "cell_type": "code",
   "execution_count": 39,
   "id": "dd627966",
   "metadata": {},
   "outputs": [
    {
     "data": {
      "text/html": [
       "<div>\n",
       "<style scoped>\n",
       "    .dataframe tbody tr th:only-of-type {\n",
       "        vertical-align: middle;\n",
       "    }\n",
       "\n",
       "    .dataframe tbody tr th {\n",
       "        vertical-align: top;\n",
       "    }\n",
       "\n",
       "    .dataframe thead th {\n",
       "        text-align: right;\n",
       "    }\n",
       "</style>\n",
       "<table border=\"1\" class=\"dataframe\">\n",
       "  <thead>\n",
       "    <tr style=\"text-align: right;\">\n",
       "      <th></th>\n",
       "      <th>Order_ID</th>\n",
       "      <th>Product</th>\n",
       "      <th>Quantity_Ordered</th>\n",
       "      <th>Price_Each</th>\n",
       "      <th>Order_Date</th>\n",
       "      <th>Purchase_Address</th>\n",
       "      <th>City</th>\n",
       "      <th>Month</th>\n",
       "      <th>Sales</th>\n",
       "      <th>Day</th>\n",
       "    </tr>\n",
       "  </thead>\n",
       "  <tbody>\n",
       "    <tr>\n",
       "      <th>0</th>\n",
       "      <td>141234.0</td>\n",
       "      <td>iPhone</td>\n",
       "      <td>1</td>\n",
       "      <td>700.00</td>\n",
       "      <td>2019-01-22 21:25:00</td>\n",
       "      <td>944 Walnut St, Boston, MA 02215</td>\n",
       "      <td>Boston</td>\n",
       "      <td>1</td>\n",
       "      <td>700.00</td>\n",
       "      <td>Tuesday</td>\n",
       "    </tr>\n",
       "    <tr>\n",
       "      <th>1</th>\n",
       "      <td>141235.0</td>\n",
       "      <td>Lightning Charging Cable</td>\n",
       "      <td>1</td>\n",
       "      <td>14.95</td>\n",
       "      <td>2019-01-28 14:15:00</td>\n",
       "      <td>185 Maple St, Portland, OR 97035</td>\n",
       "      <td>Portland</td>\n",
       "      <td>1</td>\n",
       "      <td>14.95</td>\n",
       "      <td>Monday</td>\n",
       "    </tr>\n",
       "    <tr>\n",
       "      <th>2</th>\n",
       "      <td>141236.0</td>\n",
       "      <td>Wired Headphones</td>\n",
       "      <td>2</td>\n",
       "      <td>11.99</td>\n",
       "      <td>2019-01-17 13:33:00</td>\n",
       "      <td>538 Adams St, San Francisco, CA 94016</td>\n",
       "      <td>San Francisco</td>\n",
       "      <td>1</td>\n",
       "      <td>23.98</td>\n",
       "      <td>Thursday</td>\n",
       "    </tr>\n",
       "    <tr>\n",
       "      <th>3</th>\n",
       "      <td>141237.0</td>\n",
       "      <td>27in FHD Monitor</td>\n",
       "      <td>1</td>\n",
       "      <td>149.99</td>\n",
       "      <td>2019-01-05 20:33:00</td>\n",
       "      <td>738 10th St, Los Angeles, CA 90001</td>\n",
       "      <td>Los Angeles</td>\n",
       "      <td>1</td>\n",
       "      <td>149.99</td>\n",
       "      <td>Saturday</td>\n",
       "    </tr>\n",
       "    <tr>\n",
       "      <th>4</th>\n",
       "      <td>141238.0</td>\n",
       "      <td>Wired Headphones</td>\n",
       "      <td>1</td>\n",
       "      <td>11.99</td>\n",
       "      <td>2019-01-25 11:59:00</td>\n",
       "      <td>387 10th St, Austin, TX 73301</td>\n",
       "      <td>Austin</td>\n",
       "      <td>1</td>\n",
       "      <td>11.99</td>\n",
       "      <td>Friday</td>\n",
       "    </tr>\n",
       "  </tbody>\n",
       "</table>\n",
       "</div>"
      ],
      "text/plain": [
       "   Order_ID                   Product  Quantity_Ordered  Price_Each  \\\n",
       "0  141234.0                    iPhone                 1      700.00   \n",
       "1  141235.0  Lightning Charging Cable                 1       14.95   \n",
       "2  141236.0          Wired Headphones                 2       11.99   \n",
       "3  141237.0          27in FHD Monitor                 1      149.99   \n",
       "4  141238.0          Wired Headphones                 1       11.99   \n",
       "\n",
       "           Order_Date                       Purchase_Address           City  \\\n",
       "0 2019-01-22 21:25:00        944 Walnut St, Boston, MA 02215         Boston   \n",
       "1 2019-01-28 14:15:00       185 Maple St, Portland, OR 97035       Portland   \n",
       "2 2019-01-17 13:33:00  538 Adams St, San Francisco, CA 94016  San Francisco   \n",
       "3 2019-01-05 20:33:00     738 10th St, Los Angeles, CA 90001    Los Angeles   \n",
       "4 2019-01-25 11:59:00          387 10th St, Austin, TX 73301         Austin   \n",
       "\n",
       "   Month   Sales       Day  \n",
       "0      1  700.00   Tuesday  \n",
       "1      1   14.95    Monday  \n",
       "2      1   23.98  Thursday  \n",
       "3      1  149.99  Saturday  \n",
       "4      1   11.99    Friday  "
      ]
     },
     "execution_count": 39,
     "metadata": {},
     "output_type": "execute_result"
    }
   ],
   "source": [
    "df.head()"
   ]
  },
  {
   "cell_type": "code",
   "execution_count": 40,
   "id": "62753991",
   "metadata": {},
   "outputs": [],
   "source": [
    "Avg_Sales = df.groupby(['Product', 'Day'])[['Sales']].mean()\n"
   ]
  },
  {
   "cell_type": "code",
   "execution_count": 41,
   "id": "bff7b044",
   "metadata": {},
   "outputs": [
    {
     "data": {
      "text/html": [
       "<div>\n",
       "<style scoped>\n",
       "    .dataframe tbody tr th:only-of-type {\n",
       "        vertical-align: middle;\n",
       "    }\n",
       "\n",
       "    .dataframe tbody tr th {\n",
       "        vertical-align: top;\n",
       "    }\n",
       "\n",
       "    .dataframe thead th {\n",
       "        text-align: right;\n",
       "    }\n",
       "</style>\n",
       "<table border=\"1\" class=\"dataframe\">\n",
       "  <thead>\n",
       "    <tr style=\"text-align: right;\">\n",
       "      <th></th>\n",
       "      <th></th>\n",
       "      <th>Sales</th>\n",
       "    </tr>\n",
       "    <tr>\n",
       "      <th>Product</th>\n",
       "      <th>Day</th>\n",
       "      <th></th>\n",
       "    </tr>\n",
       "  </thead>\n",
       "  <tbody>\n",
       "    <tr>\n",
       "      <th rowspan=\"7\" valign=\"top\">20in Monitor</th>\n",
       "      <th>Friday</th>\n",
       "      <td>109.990000</td>\n",
       "    </tr>\n",
       "    <tr>\n",
       "      <th>Monday</th>\n",
       "      <td>109.990000</td>\n",
       "    </tr>\n",
       "    <tr>\n",
       "      <th>Saturday</th>\n",
       "      <td>115.227619</td>\n",
       "    </tr>\n",
       "    <tr>\n",
       "      <th>Sunday</th>\n",
       "      <td>109.990000</td>\n",
       "    </tr>\n",
       "    <tr>\n",
       "      <th>Thursday</th>\n",
       "      <td>109.990000</td>\n",
       "    </tr>\n",
       "    <tr>\n",
       "      <th>Tuesday</th>\n",
       "      <td>109.990000</td>\n",
       "    </tr>\n",
       "    <tr>\n",
       "      <th>Wednesday</th>\n",
       "      <td>112.434222</td>\n",
       "    </tr>\n",
       "    <tr>\n",
       "      <th rowspan=\"3\" valign=\"top\">27in 4K Gaming Monitor</th>\n",
       "      <th>Friday</th>\n",
       "      <td>389.990000</td>\n",
       "    </tr>\n",
       "    <tr>\n",
       "      <th>Monday</th>\n",
       "      <td>389.990000</td>\n",
       "    </tr>\n",
       "    <tr>\n",
       "      <th>Saturday</th>\n",
       "      <td>389.990000</td>\n",
       "    </tr>\n",
       "  </tbody>\n",
       "</table>\n",
       "</div>"
      ],
      "text/plain": [
       "                                       Sales\n",
       "Product                Day                  \n",
       "20in Monitor           Friday     109.990000\n",
       "                       Monday     109.990000\n",
       "                       Saturday   115.227619\n",
       "                       Sunday     109.990000\n",
       "                       Thursday   109.990000\n",
       "                       Tuesday    109.990000\n",
       "                       Wednesday  112.434222\n",
       "27in 4K Gaming Monitor Friday     389.990000\n",
       "                       Monday     389.990000\n",
       "                       Saturday   389.990000"
      ]
     },
     "execution_count": 41,
     "metadata": {},
     "output_type": "execute_result"
    }
   ],
   "source": [
    "Avg_Sales.head(10)"
   ]
  },
  {
   "cell_type": "markdown",
   "id": "9237fbc0",
   "metadata": {},
   "source": [
    "### Q3. Highest selling products. Which products are sold the most?"
   ]
  },
  {
   "cell_type": "code",
   "execution_count": 42,
   "id": "fed0753a",
   "metadata": {},
   "outputs": [],
   "source": [
    "Highest_Selling_Products = df.groupby(['Product'])[['Quantity_Ordered']].sum().sort_values(by='Quantity_Ordered', ascending=False)"
   ]
  },
  {
   "cell_type": "code",
   "execution_count": 43,
   "id": "bf49aa91",
   "metadata": {},
   "outputs": [
    {
     "data": {
      "text/html": [
       "<div>\n",
       "<style scoped>\n",
       "    .dataframe tbody tr th:only-of-type {\n",
       "        vertical-align: middle;\n",
       "    }\n",
       "\n",
       "    .dataframe tbody tr th {\n",
       "        vertical-align: top;\n",
       "    }\n",
       "\n",
       "    .dataframe thead th {\n",
       "        text-align: right;\n",
       "    }\n",
       "</style>\n",
       "<table border=\"1\" class=\"dataframe\">\n",
       "  <thead>\n",
       "    <tr style=\"text-align: right;\">\n",
       "      <th></th>\n",
       "      <th>Quantity_Ordered</th>\n",
       "    </tr>\n",
       "    <tr>\n",
       "      <th>Product</th>\n",
       "      <th></th>\n",
       "    </tr>\n",
       "  </thead>\n",
       "  <tbody>\n",
       "    <tr>\n",
       "      <th>AAA Batteries (4-pack)</th>\n",
       "      <td>1596</td>\n",
       "    </tr>\n",
       "    <tr>\n",
       "      <th>AA Batteries (4-pack)</th>\n",
       "      <td>1425</td>\n",
       "    </tr>\n",
       "    <tr>\n",
       "      <th>USB-C Charging Cable</th>\n",
       "      <td>1284</td>\n",
       "    </tr>\n",
       "    <tr>\n",
       "      <th>Lightning Charging Cable</th>\n",
       "      <td>1151</td>\n",
       "    </tr>\n",
       "    <tr>\n",
       "      <th>Wired Headphones</th>\n",
       "      <td>1081</td>\n",
       "    </tr>\n",
       "    <tr>\n",
       "      <th>Apple Airpods Headphones</th>\n",
       "      <td>814</td>\n",
       "    </tr>\n",
       "    <tr>\n",
       "      <th>Bose SoundSport Headphones</th>\n",
       "      <td>659</td>\n",
       "    </tr>\n",
       "    <tr>\n",
       "      <th>27in FHD Monitor</th>\n",
       "      <td>419</td>\n",
       "    </tr>\n",
       "    <tr>\n",
       "      <th>iPhone</th>\n",
       "      <td>379</td>\n",
       "    </tr>\n",
       "    <tr>\n",
       "      <th>Google Phone</th>\n",
       "      <td>318</td>\n",
       "    </tr>\n",
       "  </tbody>\n",
       "</table>\n",
       "</div>"
      ],
      "text/plain": [
       "                            Quantity_Ordered\n",
       "Product                                     \n",
       "AAA Batteries (4-pack)                  1596\n",
       "AA Batteries (4-pack)                   1425\n",
       "USB-C Charging Cable                    1284\n",
       "Lightning Charging Cable                1151\n",
       "Wired Headphones                        1081\n",
       "Apple Airpods Headphones                 814\n",
       "Bose SoundSport Headphones               659\n",
       "27in FHD Monitor                         419\n",
       "iPhone                                   379\n",
       "Google Phone                             318"
      ]
     },
     "execution_count": 43,
     "metadata": {},
     "output_type": "execute_result"
    }
   ],
   "source": [
    "Highest_Selling_Products.head(10)"
   ]
  },
  {
   "cell_type": "code",
   "execution_count": 44,
   "id": "49ae7f46",
   "metadata": {},
   "outputs": [
    {
     "data": {
      "image/png": "[encoded data removed]",
      "text/plain": [
       "<Figure size 720x432 with 1 Axes>"
      ]
     },
     "metadata": {
      "needs_background": "light"
     },
     "output_type": "display_data"
    }
   ],
   "source": [
    "Highest_Selling_Products.head(10).plot(kind='bar', figsize=(10,6) , color='darkorchid', edgecolor='black')\n",
    "plt.title('Top Selling Products')\n",
    "plt.xlabel('Products')\n",
    "plt.ylabel('Quatity of Orders')\n",
    "plt.legend().set_visible(False)\n",
    "plt.show()"
   ]
  },
  {
   "cell_type": "markdown",
   "id": "b9d45b9e",
   "metadata": {},
   "source": [
    "Conclusion - AAA Batteries (4-pack) is the highest selling product, followed by AA BAtteries( 4-pack), USB-C Charging Cable and so on as shown above."
   ]
  },
  {
   "cell_type": "markdown",
   "id": "ea3410ff",
   "metadata": {},
   "source": [
    "### Q4. Which city had highest number of sales?"
   ]
  },
  {
   "cell_type": "code",
   "execution_count": 45,
   "id": "0bb6bbdf",
   "metadata": {},
   "outputs": [
    {
     "data": {
      "text/html": [
       "<div>\n",
       "<style scoped>\n",
       "    .dataframe tbody tr th:only-of-type {\n",
       "        vertical-align: middle;\n",
       "    }\n",
       "\n",
       "    .dataframe tbody tr th {\n",
       "        vertical-align: top;\n",
       "    }\n",
       "\n",
       "    .dataframe thead th {\n",
       "        text-align: right;\n",
       "    }\n",
       "</style>\n",
       "<table border=\"1\" class=\"dataframe\">\n",
       "  <thead>\n",
       "    <tr style=\"text-align: right;\">\n",
       "      <th></th>\n",
       "      <th>Order_ID</th>\n",
       "      <th>Product</th>\n",
       "      <th>Quantity_Ordered</th>\n",
       "      <th>Price_Each</th>\n",
       "      <th>Order_Date</th>\n",
       "      <th>Purchase_Address</th>\n",
       "      <th>City</th>\n",
       "      <th>Month</th>\n",
       "      <th>Sales</th>\n",
       "      <th>Day</th>\n",
       "    </tr>\n",
       "  </thead>\n",
       "  <tbody>\n",
       "    <tr>\n",
       "      <th>0</th>\n",
       "      <td>141234.0</td>\n",
       "      <td>iPhone</td>\n",
       "      <td>1</td>\n",
       "      <td>700.00</td>\n",
       "      <td>2019-01-22 21:25:00</td>\n",
       "      <td>944 Walnut St, Boston, MA 02215</td>\n",
       "      <td>Boston</td>\n",
       "      <td>1</td>\n",
       "      <td>700.00</td>\n",
       "      <td>Tuesday</td>\n",
       "    </tr>\n",
       "    <tr>\n",
       "      <th>1</th>\n",
       "      <td>141235.0</td>\n",
       "      <td>Lightning Charging Cable</td>\n",
       "      <td>1</td>\n",
       "      <td>14.95</td>\n",
       "      <td>2019-01-28 14:15:00</td>\n",
       "      <td>185 Maple St, Portland, OR 97035</td>\n",
       "      <td>Portland</td>\n",
       "      <td>1</td>\n",
       "      <td>14.95</td>\n",
       "      <td>Monday</td>\n",
       "    </tr>\n",
       "    <tr>\n",
       "      <th>2</th>\n",
       "      <td>141236.0</td>\n",
       "      <td>Wired Headphones</td>\n",
       "      <td>2</td>\n",
       "      <td>11.99</td>\n",
       "      <td>2019-01-17 13:33:00</td>\n",
       "      <td>538 Adams St, San Francisco, CA 94016</td>\n",
       "      <td>San Francisco</td>\n",
       "      <td>1</td>\n",
       "      <td>23.98</td>\n",
       "      <td>Thursday</td>\n",
       "    </tr>\n",
       "    <tr>\n",
       "      <th>3</th>\n",
       "      <td>141237.0</td>\n",
       "      <td>27in FHD Monitor</td>\n",
       "      <td>1</td>\n",
       "      <td>149.99</td>\n",
       "      <td>2019-01-05 20:33:00</td>\n",
       "      <td>738 10th St, Los Angeles, CA 90001</td>\n",
       "      <td>Los Angeles</td>\n",
       "      <td>1</td>\n",
       "      <td>149.99</td>\n",
       "      <td>Saturday</td>\n",
       "    </tr>\n",
       "    <tr>\n",
       "      <th>4</th>\n",
       "      <td>141238.0</td>\n",
       "      <td>Wired Headphones</td>\n",
       "      <td>1</td>\n",
       "      <td>11.99</td>\n",
       "      <td>2019-01-25 11:59:00</td>\n",
       "      <td>387 10th St, Austin, TX 73301</td>\n",
       "      <td>Austin</td>\n",
       "      <td>1</td>\n",
       "      <td>11.99</td>\n",
       "      <td>Friday</td>\n",
       "    </tr>\n",
       "  </tbody>\n",
       "</table>\n",
       "</div>"
      ],
      "text/plain": [
       "   Order_ID                   Product  Quantity_Ordered  Price_Each  \\\n",
       "0  141234.0                    iPhone                 1      700.00   \n",
       "1  141235.0  Lightning Charging Cable                 1       14.95   \n",
       "2  141236.0          Wired Headphones                 2       11.99   \n",
       "3  141237.0          27in FHD Monitor                 1      149.99   \n",
       "4  141238.0          Wired Headphones                 1       11.99   \n",
       "\n",
       "           Order_Date                       Purchase_Address           City  \\\n",
       "0 2019-01-22 21:25:00        944 Walnut St, Boston, MA 02215         Boston   \n",
       "1 2019-01-28 14:15:00       185 Maple St, Portland, OR 97035       Portland   \n",
       "2 2019-01-17 13:33:00  538 Adams St, San Francisco, CA 94016  San Francisco   \n",
       "3 2019-01-05 20:33:00     738 10th St, Los Angeles, CA 90001    Los Angeles   \n",
       "4 2019-01-25 11:59:00          387 10th St, Austin, TX 73301         Austin   \n",
       "\n",
       "   Month   Sales       Day  \n",
       "0      1  700.00   Tuesday  \n",
       "1      1   14.95    Monday  \n",
       "2      1   23.98  Thursday  \n",
       "3      1  149.99  Saturday  \n",
       "4      1   11.99    Friday  "
      ]
     },
     "execution_count": 45,
     "metadata": {},
     "output_type": "execute_result"
    }
   ],
   "source": [
    "df.head()"
   ]
  },
  {
   "cell_type": "code",
   "execution_count": 46,
   "id": "b2b6f2a2",
   "metadata": {},
   "outputs": [
    {
     "data": {
      "text/plain": [
       "array(['Boston', 'Portland', 'San Francisco', 'Los Angeles', 'Austin',\n",
       "       'Atlanta', 'Seattle', 'New York City', 'Dallas'], dtype=object)"
      ]
     },
     "execution_count": 46,
     "metadata": {},
     "output_type": "execute_result"
    }
   ],
   "source": [
    "df['City'].unique()"
   ]
  },
  {
   "cell_type": "code",
   "execution_count": 47,
   "id": "e5b90d80",
   "metadata": {},
   "outputs": [
    {
     "data": {
      "text/html": [
       "<div>\n",
       "<style scoped>\n",
       "    .dataframe tbody tr th:only-of-type {\n",
       "        vertical-align: middle;\n",
       "    }\n",
       "\n",
       "    .dataframe tbody tr th {\n",
       "        vertical-align: top;\n",
       "    }\n",
       "\n",
       "    .dataframe thead th {\n",
       "        text-align: right;\n",
       "    }\n",
       "</style>\n",
       "<table border=\"1\" class=\"dataframe\">\n",
       "  <thead>\n",
       "    <tr style=\"text-align: right;\">\n",
       "      <th></th>\n",
       "      <th>Sales</th>\n",
       "    </tr>\n",
       "    <tr>\n",
       "      <th>City</th>\n",
       "      <th></th>\n",
       "    </tr>\n",
       "  </thead>\n",
       "  <tbody>\n",
       "    <tr>\n",
       "      <th>San Francisco</th>\n",
       "      <td>433103.45</td>\n",
       "    </tr>\n",
       "    <tr>\n",
       "      <th>Los Angeles</th>\n",
       "      <td>287613.86</td>\n",
       "    </tr>\n",
       "    <tr>\n",
       "      <th>New York City</th>\n",
       "      <td>259250.67</td>\n",
       "    </tr>\n",
       "    <tr>\n",
       "      <th>Boston</th>\n",
       "      <td>199776.55</td>\n",
       "    </tr>\n",
       "    <tr>\n",
       "      <th>Atlanta</th>\n",
       "      <td>149163.38</td>\n",
       "    </tr>\n",
       "    <tr>\n",
       "      <th>Dallas</th>\n",
       "      <td>143465.50</td>\n",
       "    </tr>\n",
       "    <tr>\n",
       "      <th>Seattle</th>\n",
       "      <td>140542.06</td>\n",
       "    </tr>\n",
       "    <tr>\n",
       "      <th>Portland</th>\n",
       "      <td>114832.57</td>\n",
       "    </tr>\n",
       "    <tr>\n",
       "      <th>Austin</th>\n",
       "      <td>87587.08</td>\n",
       "    </tr>\n",
       "  </tbody>\n",
       "</table>\n",
       "</div>"
      ],
      "text/plain": [
       "                   Sales\n",
       "City                    \n",
       "San Francisco  433103.45\n",
       "Los Angeles    287613.86\n",
       "New York City  259250.67\n",
       "Boston         199776.55\n",
       "Atlanta        149163.38\n",
       "Dallas         143465.50\n",
       "Seattle        140542.06\n",
       "Portland       114832.57\n",
       "Austin          87587.08"
      ]
     },
     "execution_count": 47,
     "metadata": {},
     "output_type": "execute_result"
    }
   ],
   "source": [
    "Top_City = df.groupby('City')[['Sales']].sum().sort_values(by='Sales', ascending=False)\n",
    "Top_City"
   ]
  },
  {
   "cell_type": "code",
   "execution_count": 48,
   "id": "637d7261",
   "metadata": {},
   "outputs": [
    {
     "data": {
      "image/png": "[encoded data removed]",
      "text/plain": [
       "<Figure size 720x432 with 1 Axes>"
      ]
     },
     "metadata": {
      "needs_background": "light"
     },
     "output_type": "display_data"
    }
   ],
   "source": [
    "Top_City.plot(kind='bar', figsize=(10,6), color='darkorchid', edgecolor='black')\n",
    "plt.title('Sales Per City')\n",
    "plt.xlabel('Cities')\n",
    "plt.ylabel('Sales')\n",
    "plt.legend().set_visible(False)\n",
    "plt.show()"
   ]
  },
  {
   "cell_type": "markdown",
   "id": "dda7451a",
   "metadata": {},
   "source": [
    "Conclusion : San Franciso had to most sales, followed by Los Angeles, New York City and so on as displayed above"
   ]
  }
 ],
 "metadata": {
  "kernelspec": {
   "display_name": "Python 3",
   "language": "python",
   "name": "python3"
  },
  "language_info": {
   "codemirror_mode": {
    "name": "ipython",
    "version": 3
   },
   "file_extension": ".py",
   "mimetype": "text/x-python",
   "name": "python",
   "nbconvert_exporter": "python",
   "pygments_lexer": "ipython3",
   "version": "3.8.8"
  }
 },
 "nbformat": 4,
 "nbformat_minor": 5
}
